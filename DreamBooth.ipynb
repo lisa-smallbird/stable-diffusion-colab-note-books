{
  "nbformat": 4,
  "nbformat_minor": 0,
  "metadata": {
    "colab": {
      "provenance": [],
      "collapsed_sections": [
        "kfVo0-BV57zi",
        "7XR4bu5NVFht"
      ],
      "include_colab_link": true
    },
    "kernelspec": {
      "name": "python3",
      "display_name": "Python 3"
    },
    "language_info": {
      "name": "python"
    },
    "accelerator": "GPU",
    "gpuClass": "standard"
  },
  "cells": [
    {
      "cell_type": "markdown",
      "metadata": {
        "id": "view-in-github",
        "colab_type": "text"
      },
      "source": [
        "<a href=\"https://colab.research.google.com/github/lisa-smallbird/stable-diffusion-colab-note-books/blob/main/DreamBooth.ipynb\" target=\"_parent\"><img src=\"https://colab.research.google.com/assets/colab-badge.svg\" alt=\"Open In Colab\"/></a>"
      ]
    },
    {
      "cell_type": "markdown",
      "source": [
        "# これは何？\n",
        "\n",
        "DreamBoothを利用して学習データを作成するツールです。\n",
        "\n",
        "SD1.4/WifuDiffusion/TrinartStableDiffusionを元に追加学習可能です\n"
      ],
      "metadata": {
        "id": "n0AFYpPOsANN"
      }
    },
    {
      "cell_type": "markdown",
      "source": [
        "# 概要\n",
        "\n",
        "npaka さんの記事を参考に作成しました\n",
        "\n",
        "https://note.com/npaka/n/n3b96d0b5d9c2\n",
        "\n",
        "このノートブックの使い方は下記のnote記事を確認下さい\n",
        "\n",
        "https://note.com/lisa_s/n/n5fb5468e8998\n"
      ],
      "metadata": {
        "id": "aEKduXuN57zY"
      }
    },
    {
      "cell_type": "markdown",
      "source": [
        "# 本体"
      ],
      "metadata": {
        "id": "ZV8luT23UK_O"
      }
    },
    {
      "cell_type": "code",
      "source": [
        "#@title 1.GPUのリセマラ\n",
        "#@markdown * 12GB以上のメモリが出るまでGPUガチャを引き直してください\n",
        "#@markdown   * OK→12GB以上\n",
        "#@markdown   * NG→12GB未満\n",
        "#@markdown * NGだった場合は、メニューの「ランタイム」→「ランタイムを接続解除して削除」を実行してください\n",
        "#@markdown * 最近の傾向として、NGは出ないと思いますが念のためです\n",
        "\n",
        "\n",
        "!nvidia-smi | grep -oE '/ *[0-9]*MiB' | grep -o '[0-9]*' | awk '{print $1 \"MiB\";if ($1>12000){print \"OK!\"}else{print \"NG!\"}}'"
      ],
      "metadata": {
        "cellView": "form",
        "id": "Bj92CLWM57zh"
      },
      "execution_count": null,
      "outputs": []
    },
    {
      "cell_type": "code",
      "source": [
        "#@title 2.パッケージのインストールと再起動\n",
        "#@markdown エラーが表示されるので、「RESTART RUNTIME」ボタンを押してください\n",
        "\n",
        "#@markdown ランタイムを再起動しますか？と表示されるのでOKで再起動してください\n",
        "# PILの不具合問題対応\n",
        "# (注意)以下を実行したら一度ランタイムを再起動すること\n",
        "!sudo apt-get install tesseract-ocr\n",
        "!pip install pytesseract==0.3.9"
      ],
      "metadata": {
        "cellView": "form",
        "id": "SLR-eDAy57zh"
      },
      "execution_count": null,
      "outputs": []
    },
    {
      "cell_type": "markdown",
      "source": [
        "### 3.パッケージ等の準備２\n",
        "\n",
        "GoogleDriveの利用許可を求められるので、適当に許可してください"
      ],
      "metadata": {
        "id": "kfVo0-BV57zi"
      }
    },
    {
      "cell_type": "code",
      "source": [
        "# Google Driveをマウント\n",
        "from google.colab import drive\n",
        "drive.mount('/content/drive')\n",
        "! mkdir -p /content/drive/MyDrive/diffusion/user-data/learning/\n",
        "# パッケージのインストール\n",
        "!pip install huggingface_hub"
      ],
      "metadata": {
        "id": "nhKOQt-q57zi"
      },
      "execution_count": null,
      "outputs": []
    },
    {
      "cell_type": "markdown",
      "source": [
        "### 4.huggingfaceへログイン"
      ],
      "metadata": {
        "id": "HpfTRM1L57zi"
      }
    },
    {
      "cell_type": "code",
      "source": [
        "#@markdown * hugginfaceのログイントークンを利用し、ログインします\n",
        "#@markdown   * 参考: [画像生成AI「Stable Diffusion」を低スペックPCでも無料かつ待ち時間なしで使う方法まとめ - Gigazine](https://gigazine.net/news/20220824-stable-diffusion-google-colaboratory/)\n",
        "\n",
        "\n",
        "from huggingface_hub import notebook_login\n",
        "\n",
        "notebook_login()"
      ],
      "metadata": {
        "cellView": "form",
        "id": "vT7yUD_G57zi"
      },
      "execution_count": null,
      "outputs": []
    },
    {
      "cell_type": "markdown",
      "source": [
        "### 5.学習実行！\n",
        "\n",
        "設定を記入し、実行してください\n",
        "\n",
        "3000ステップで1時間～1.5時間程度かかります。\n",
        "\n",
        "データは自動でGoogleDriveに保存されます\n"
      ],
      "metadata": {
        "id": "Hce6B3Kl57zi"
      }
    },
    {
      "cell_type": "code",
      "source": [
        "#@title \n",
        "#残りのパッケージインストール\n",
        "!git clone https://github.com/ShivamShrirao/diffusers.git\n",
        "!git clone https://github.com/yuuk128/diffusion_sample.git\n",
        "! cp -f diffusion_sample/train_dreambooth.py /content/diffusers/examples/dreambooth/train_dreambooth_lisa.py \n",
        "!pip install accelerate==0.12.0\n",
        "!pip install diffusers\n",
        "!pip install transformers\n",
        "!pip install --upgrade Pillow==9.2.0\n",
        "!pip install bitsandbytes\n",
        "\n",
        "#\n",
        "dream_booth_base_model = \"hakurei/waifu-diffusion\" #@param [\"hakurei/waifu-diffusion\", \"Nilaier/Waifu-Diffusers\",\"CompVis/stable-diffusion-v1-4\", \"naclbit/trinart_stable_diffusion_v2,diffusers-115k\", \"naclbit/trinart_stable_diffusion_v2,diffusers-95k\", \"naclbit/trinart_stable_diffusion_v2,diffusers-60k\"] {allow-input: true}\n",
        "#@markdown * 学習元のモデルを入れてください\n",
        "#@markdown   * hakurei/waifu-diffusion → Waifu-Diffusion 1.2\n",
        "#@markdown   * Nilaier/Waifu-Diffusers → Waifu-Diffusion 1.3\n",
        "#@markdown ----\n",
        "\n",
        "dream_booth_input_dir = \"/content/drive/MyDrive/diffusion/user-data/learning/dq10\" #@param {type:\"string\"}\n",
        "#@markdown * 学習したい画像の保存先を指定してください\n",
        "#@markdown * GoogleDriveの diffusion/user-data/learning/dq10 に画像を保存した場合は、/content/drive/MyDrive/diffusion/user-data/learning/dq10 を指定してください\n",
        "#@markdown ----\n",
        "\n",
        "dream_booth_model_name = \"girl\" #@param {type:\"string\"}\n",
        "#@markdown * 学習したい対象の単語を入れてください\n",
        "#@markdown * 学習したいのが女の子のキャラなら、girl、自宅の猫ならcatみたいな感じです。\n",
        "#@markdown ----\n",
        "dream_booth_steps = 3000 #@param {type:\"integer\"}\n",
        "#@markdown * 学習にかけるステップ数です\n",
        "#@markdown * 学習画像が多い場合はステップ数も多いほうが良さそうです\n",
        "#@markdown * 学習素材にもよりますが、WaifuDiffusionでキャラ学習なら、画像枚数×150～200程度が良さそうです\n",
        "#@markdown   * 例: 画像枚数が20枚なら3000で試してみて、再現度が微妙だったら4000で試す\n",
        "#@markdown   * TriartSDv2を使う場合や、学習対象がキャラでない場合は、最適なステップ数は違いそうです\n",
        "#@markdown ----\n",
        "\n",
        "dream_booth_new_model = \"dq10_3000\" #@param {type:\"string\"}\n",
        "#@markdown * 英数字で好きな名称をつけてください。保存先のファイル名でのみ使います\n",
        "! ls  -l {dream_booth_input_dir}\n",
        "\n",
        "import glob\n",
        "imgs= glob.glob(f\"{dream_booth_input_dir}/*\")\n",
        "if len(imgs) == 0:\n",
        "  raise Exception(\"画像ファイルが見つかりません。dream_booth_input_dir があっているか確認してください\")\n",
        "\n",
        "strs = dream_booth_base_model.split(\",\")\n",
        "dream_booth_base_model_name = strs[0]\n",
        "ex_param = \"\"\n",
        "if len(strs)==1:\n",
        "  revision = \"\"\n",
        "  script_name = \"train_dreambooth.py\"\n",
        "else:\n",
        "  revision = strs[1]\n",
        "  script_name = \"train_dreambooth_lisa.py\"\n",
        "  ex_param  = f\" --revision '{revision}' \"\n",
        "\n",
        "\n",
        "!accelerate launch /content/diffusers/examples/dreambooth/{script_name} \\\n",
        "  --pretrained_model_name_or_path=\"{dream_booth_base_model_name}\" {ex_param} \\\n",
        "  --instance_data_dir={dream_booth_input_dir} \\\n",
        "  --output_dir=/content/models/{dream_booth_new_model} \\\n",
        "  --instance_prompt=\"a photo of sks {dream_booth_model_name}\" \\\n",
        "  --resolution=512 \\\n",
        "  --train_batch_size=1 \\\n",
        "  --gradient_accumulation_steps=1 \\\n",
        "  --learning_rate=5e-6 \\\n",
        "  --lr_scheduler=\"constant\" \\\n",
        "  --lr_warmup_steps=0 \\\n",
        "  --max_train_steps={dream_booth_steps} \\\n",
        "  --use_8bit_adam\n",
        "! mkdir -p /content/drive/MyDrive/diffusion/user-data/DreamBooth/\n",
        "! mv /content/models/{dream_booth_new_model} /content/drive/MyDrive/diffusion/user-data/DreamBooth/{dream_booth_new_model}\n",
        "db_saved_model_path =f\"/content/drive/MyDrive/diffusion/user-data/DreamBooth/{dream_booth_new_model}\""
      ],
      "metadata": {
        "cellView": "form",
        "id": "rRoXiRqA57zi"
      },
      "execution_count": null,
      "outputs": []
    },
    {
      "cell_type": "markdown",
      "source": [
        "### 6.セッションの切断\n",
        "セッションを繋いだままだとクレジットを消費するので切断"
      ],
      "metadata": {
        "id": "7XR4bu5NVFht"
      }
    },
    {
      "cell_type": "code",
      "source": [
        "from google.colab import runtime\n",
        "runtime.unassign()"
      ],
      "metadata": {
        "id": "eB2h2fnbUzUp"
      },
      "execution_count": null,
      "outputs": []
    },
    {
      "cell_type": "markdown",
      "source": [
        "### 7.学習したデータを元にお絵かき\n",
        "\n",
        "[こちらのノートブック](https://colab.research.google.com/drive/1YoRB2tB8TGGlt2ef4AX4z8KJ5Og6y-wg?usp=sharing)にて作成した学習データは利用できます。\n",
        "\n",
        "他にも、Diffuserに対応したツールなら学習データは使えると思います。"
      ],
      "metadata": {
        "id": "GMBE5ZmNqqJW"
      }
    },
    {
      "cell_type": "markdown",
      "source": [
        "\n",
        "---\n",
        "\n",
        "## このノートブックの取り扱い\n",
        "\n",
        "* 複製・改変・拡散・動画やブログでの紹介・その他何でもOKです\n",
        "* むしろ、誰かwikiとか作って、真面目に管理してくれると助かります\n",
        "* その他問い合わせは [Twitter@LisaDQX](https://twitter.com/LisaDQX)へご連絡ください\n"
      ],
      "metadata": {
        "id": "bohYszRXwtct"
      }
    }
  ]
}